{
 "cells": [
  {
   "cell_type": "code",
   "execution_count": 48,
   "metadata": {},
   "outputs": [],
   "source": [
    "#----Sample of Scraping Dependencies----\n",
    "# from splinter import Browser\n",
    "# from bs4 import BeautifulSoup\n",
    "# from urllib.parse import urlsplit\n",
    "# import pandas as pd\n",
    "# import re\n",
    "# import time\n",
    "# import json\n",
    "\n",
    "#This file is strictly for the purposes of testing the dataflow.\n",
    "#So instead of a scrape(), it will just generate two random lists\n",
    "#and format them nicely for use in our Flask app.\n",
    "import numpy as np"
   ]
  },
  {
   "cell_type": "code",
   "execution_count": 49,
   "metadata": {},
   "outputs": [
    {
     "name": "stdout",
     "output_type": "stream",
     "text": [
      "[2 5 9 2 1 4 3 7 5 5]\n",
      "[3 2 0 4 9 1 3 9 6 4]\n"
     ]
    }
   ],
   "source": [
    "list_1 = np.random.randint(10, size=10)\n",
    "print(list_1);\n",
    "    \n",
    "list_2 = np.random.randint(10, size=10)\n",
    "print(list_2);"
   ]
  },
  {
   "cell_type": "code",
   "execution_count": 54,
   "metadata": {},
   "outputs": [
    {
     "name": "stdout",
     "output_type": "stream",
     "text": [
      "{'List_1': [2, 5, 9, 2, 1, 4, 3, 7, 5, 5], 'List_2': [3, 2, 0, 4, 9, 1, 3, 9, 6, 4]}\n"
     ]
    }
   ],
   "source": [
    "packaged_lists = {\"List_1\": list(list_1), \"List_2\": list(list_2)}\n",
    "\n",
    "#Packaging the lists for MongoDB to easily read later.\n",
    "print(packaged_lists)"
   ]
  },
  {
   "cell_type": "code",
   "execution_count": null,
   "metadata": {},
   "outputs": [],
   "source": []
  }
 ],
 "metadata": {
  "kernelspec": {
   "display_name": "Python 3",
   "language": "python",
   "name": "python3"
  },
  "language_info": {
   "codemirror_mode": {
    "name": "ipython",
    "version": 3
   },
   "file_extension": ".py",
   "mimetype": "text/x-python",
   "name": "python",
   "nbconvert_exporter": "python",
   "pygments_lexer": "ipython3",
   "version": "3.6.4"
  }
 },
 "nbformat": 4,
 "nbformat_minor": 2
}
