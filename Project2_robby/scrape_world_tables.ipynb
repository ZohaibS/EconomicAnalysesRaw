{
 "cells": [
  {
   "cell_type": "code",
   "execution_count": 1,
   "metadata": {},
   "outputs": [],
   "source": [
    " # Dependencies\n",
    "from bs4 import BeautifulSoup\n",
    "import requests\n",
    "import os\n",
    "import pymongo\n",
    "from splinter import Browser\n",
    "from splinter.exceptions import ElementDoesNotExist\n",
    "import pandas as pd\n",
    "from zipfile import ZipFile\n",
    "from IPython.display import display_html\n",
    "import json\n",
    "import pprint"
   ]
  },
  {
   "cell_type": "code",
   "execution_count": 2,
   "metadata": {},
   "outputs": [],
   "source": [
    "# set up the splinter method\n",
    "executable_path = {'executable_path': 'chromedriver.exe'}\n",
    "browser = Browser('chrome', **executable_path, headless=False)"
   ]
  },
  {
   "cell_type": "code",
   "execution_count": 3,
   "metadata": {},
   "outputs": [],
   "source": [
    "# define the target URLs\n",
    "url1 = 'http://wdi.worldbank.org/table/6.4' # direction of trade, from low/high to high/low income economies\n",
    "url2 = 'http://wdi.worldbank.org/table/6.6' # tariff barriers\n",
    "url3 = 'http://wdi.worldbank.org/table/6.7' # trade facilitation\n",
    "url4 = 'http://wdi.worldbank.org/table/6.8' # external debt\n",
    "url5 = 'http://wdi.worldbank.org/table/6.11' # aid dependency\n",
    "url6 = 'http://wdi.worldbank.org/table/6.14' # travel and tourism\n",
    "url7 = 'http://wdi.worldbank.org/table/2.5' # unemployment\n",
    "url8 = 'http://wdi.worldbank.org/table/4.10' # broader measure of national income\n",
    "url9 = 'http://wdi.worldbank.org/table/4.16' # exchange rates and prices\n",
    "# browser.visit(url)"
   ]
  },
  {
   "cell_type": "code",
   "execution_count": 4,
   "metadata": {},
   "outputs": [],
   "source": [
    "# select the content from the direction of trade table (url1)\n",
    "start1 = pd.read_html(url1)\n",
    "trade_direction = start1[2]\n",
    "\n",
    "trade_direction_list = trade_direction[0]\n",
    "#trade_direction_list"
   ]
  },
  {
   "cell_type": "code",
   "execution_count": 5,
   "metadata": {},
   "outputs": [],
   "source": [
    "# jsonify the trade_direction dataframe \n",
    "trade_direction.columns = ['country_name', 'toLow_withinRegion_2006', 'toLow_withinRegion_2016', 'toLow_outRegion_2006', 'toLow_outRegion_2016', 'toHi_withinRegion_2006', 'toHi_withinRegion_2016', 'fromLow_withinRegion_2006', 'fromLow_withinRegion_2016', 'fromLow_outRegion_2006', 'fromLow_outRegion_2016', 'fromHi_withinRegion_2006', 'fromHi_withinRegion_2016']\n",
    "json_trade_direction = trade_direction.to_json(\"data/trade_direction.json\", orient='index')\n",
    "json_trade_direction"
   ]
  },
  {
   "cell_type": "code",
   "execution_count": 6,
   "metadata": {},
   "outputs": [],
   "source": [
    "# select the content from the tariff barriers table (url2)\n",
    "start2 = pd.read_html(url2)\n",
    "tariff_barriers = start2[2]\n",
    "\n",
    "#tariff_barriers.head()\n",
    "# tariff_barriers_list = tariff_barriers[0]   # print out just the country names\n",
    "# tariff_barriers_list                        # print out just the country names"
   ]
  },
  {
   "cell_type": "code",
   "execution_count": 7,
   "metadata": {},
   "outputs": [],
   "source": [
    "# jsonify the trade_direction dataframe \n",
    "tariff_barriers.columns = ['country_name', 'year', 'AllProd_binding_coverage', 'AllProd_simpleMean_boundRate', 'AllProd_simpleMeanTariff', 'AllProd_weightedMeanTariff', 'AllProd_shareOf_tariffLines_INTLpeaks', 'AllProd_shareOf_tariffLines_SpecRates', 'PrimProd_simpleMeanTariff', 'PrimProd_weightedMeanTariff', 'ManufProd_simpleMeanTariff', 'ManufProd_weightedMeanTariff']\n",
    "json_tariff_barriers = tariff_barriers.to_json(\"data/tariff_barriers.json\", orient='index')\n",
    "#json_tariff_barriers"
   ]
  },
  {
   "cell_type": "code",
   "execution_count": 8,
   "metadata": {},
   "outputs": [],
   "source": [
    "# select the content from the trade faciliation table (url3)\n",
    "start3 = pd.read_html(url3)\n",
    "trade_facil = start3[2]\n",
    "\n",
    "#trade_facil.head()"
   ]
  },
  {
   "cell_type": "code",
   "execution_count": 9,
   "metadata": {},
   "outputs": [],
   "source": [
    "# jsonify the trade_facil dataframe \n",
    "trade_facil.columns = ['country_name', 'logistics_performance_index_1-5', 'customs_burden_index_1-7', 'leadTime_toExport_days', 'leadTime_toImport_days', 'cost_toExport', 'cost_toImport', 'shipping_connect_index_1-100', 'port_infrastructure_index_1-7']\n",
    "json_trade_facil = trade_facil.to_json(\"data/trade_facil.json\", orient='index')\n",
    "# json_trade_facil"
   ]
  },
  {
   "cell_type": "code",
   "execution_count": 10,
   "metadata": {},
   "outputs": [],
   "source": [
    "# select the content from the external debt table (url4)\n",
    "start4 = pd.read_html(url4)\n",
    "external_debt = start4[2]\n",
    "\n",
    "# external_debt.head()"
   ]
  },
  {
   "cell_type": "code",
   "execution_count": 11,
   "metadata": {},
   "outputs": [],
   "source": [
    "# jsonify the external_debt dataframe \n",
    "external_debt.columns = ['country_name', 'externalDebt_millions', 'externalDebt_%OfGNI', 'LTdebt_guaranteed', 'LTdebt_nonGuaranteed', 'STdebt_millions', 'STdebt_%OfTotalDebt', 'STdebt_%OfTotalReserves', 'totalDebtService_%OfExports', 'totalDebtService_%OfGNI', 'presentDebtValue_%OfExports']\n",
    "json_external_debt = external_debt.to_json(\"data/external_debt.json\", orient='index')\n",
    "#json_external_debt"
   ]
  },
  {
   "cell_type": "code",
   "execution_count": 12,
   "metadata": {},
   "outputs": [],
   "source": [
    "# select the content from the aid dependency table (url5)\n",
    "start5 = pd.read_html(url5)\n",
    "aid_depend = start5[2]\n",
    "\n",
    "# aid_depend.head()"
   ]
  },
  {
   "cell_type": "code",
   "execution_count": 13,
   "metadata": {},
   "outputs": [],
   "source": [
    "# jsonify the aid_dependency dataframe \n",
    "aid_depend.columns = ['country_name', 'totalAid_millions', 'totalAid_perCapita', 'totalGrants_millions', 'TechCooperation_millions', 'NetDevAssist_%OfGNI', 'NetDevAssist_%ofGrossCapital', 'NetDevAssist_%ofImports', 'NetDevAssist_%ofGovExpenditures']\n",
    "json_aid_depend = aid_depend.to_json(\"data/aid_depend.json\", orient='index')\n",
    "# json_aid_depend"
   ]
  },
  {
   "cell_type": "code",
   "execution_count": 14,
   "metadata": {},
   "outputs": [],
   "source": [
    "# select the content from the travel and tourism table (url6)\n",
    "start6 = pd.read_html(url6)\n",
    "travel_tourism = start6[2]\n",
    "\n",
    "# travel_tourism.head()"
   ]
  },
  {
   "cell_type": "code",
   "execution_count": 15,
   "metadata": {},
   "outputs": [],
   "source": [
    "# jsonify the travel_tourism dataframe \n",
    "travel_tourism.columns = ['country_name', 'INTLtourists_inboundThous_2010', 'INTLtourists_inboundThous_2016', 'INTLtourists_outboundThous_2010', 'INTLtourists_outboundThous_2016', 'inboundTourismExpend_millions_2010', 'inboundTourismExpend_millions_2016', 'inboundTourismExpend_%ofExports_2010', 'inboundTourismExpend_%ofExports_2016', 'outboundTourismExpend_millions_2010', 'outboundTourismExpend_millions_2016', 'outboundTourismExpend_%ofExports_2010', 'outboundTourismExpend_%ofExports_2016']\n",
    "json_travel_tourism = travel_tourism.to_json(\"data/travel_tourism.json\", orient='index')\n",
    "# json_travel_tourism"
   ]
  },
  {
   "cell_type": "code",
   "execution_count": 16,
   "metadata": {},
   "outputs": [],
   "source": [
    "# select the content from the unemployment table (url7)\n",
    "start7 = pd.read_html(url7)\n",
    "unemployment = start7[2]\n",
    "\n",
    "# unemployment.head()"
   ]
  },
  {
   "cell_type": "code",
   "execution_count": 22,
   "metadata": {},
   "outputs": [],
   "source": [
    "# jsonify the unemployment dataframe \n",
    "unemployment.columns = ['country_name', 'unemployment_percentofMales_2000', 'unemployment_percentofMales_2016', 'unemployment_percentofFemales_2000', 'unemployment_percentofFemales_2016', 'youth_unemployment_percentofMales_2000', 'youth_unemployment_percentofMales_2016', 'youth_unemployment_percentofFemales_2000', 'youth_unemployment_percentofFemales_2016', 'unemployment_percentofTotal_baseEducation_2013-16', 'unemployment_percentofTotal_mediumEducation_2013-16', 'unemployment_percentofTotal_advancedEducation_2013-16']\n",
    "json_unemployment = unemployment.to_json(\"data/unemployment.json\", orient='index')\n",
    "# json_unemployment\n"
   ]
  },
  {
   "cell_type": "code",
   "execution_count": 18,
   "metadata": {},
   "outputs": [],
   "source": [
    "# select the content from the broad income measure table (url8)\n",
    "start8 = pd.read_html(url8)\n",
    "broadIncomeMeasure = start8[2]\n",
    "\n",
    "# broadIncomeMeasure.head()"
   ]
  },
  {
   "cell_type": "code",
   "execution_count": 19,
   "metadata": {},
   "outputs": [],
   "source": [
    "# jsonify the broad income measure dataframe \n",
    "broadIncomeMeasure.columns = ['country_name', 'GDP_billions_2016', 'GDP_%meanAnnualGrowth_2000-2016', 'GNI_billions_2016', 'GNI_%meanAnnualGrowth_2000-2016', 'comsumption_fixedCapital_%GNI_2016', 'naturalResourceDeplete_%ofGNI_2016', 'adjust_NNI_billions_2016', 'adjust_NNI_%meanAnnualGrowth_2000-2016']\n",
    "json_broadIncomeMeasure = broadIncomeMeasure.to_json(\"data/broadIncomeMeasure.json\", orient='index')\n",
    "# json_broadIncomeMeasure"
   ]
  },
  {
   "cell_type": "code",
   "execution_count": 20,
   "metadata": {},
   "outputs": [],
   "source": [
    "# select the content from the exchange rates table (url8)\n",
    "start9 = pd.read_html(url9)\n",
    "exchange_rates = start9[2]\n",
    "\n",
    "# exchange_rates.head()"
   ]
  },
  {
   "cell_type": "code",
   "execution_count": 21,
   "metadata": {},
   "outputs": [],
   "source": [
    "# jsonify the exchange rates dataframe \n",
    "exchange_rates.columns = ['country_name', 'DEC_altConversionFactor_2016', 'DEC_altConversionFactor_2017', 'PPP_convertFactor_2016', 'PPP_convertFactor_2017', 'ratio_PPP_toMarket_2016', 'ratio_PPP_toMarket_2017', 'effectiveExchangeRate_1-100_2016', 'effectiveExchangeRate_1-100_2017', 'GDP_implicitDeflator_%meanGrowth_2016', 'GDP_implicitDeflator_%meanGrowth_2017', 'CPI_%meanGrowth_2015-2016', 'CPI_%meanGrowth_2016-2017']\n",
    "json_exchange_rates = exchange_rates.to_json(\"data/exchange_rates.json\", orient='index')\n",
    "# json_exchange_rates"
   ]
  },
  {
   "cell_type": "code",
   "execution_count": null,
   "metadata": {},
   "outputs": [],
   "source": []
  }
 ],
 "metadata": {
  "kernel_info": {
   "name": "python3"
  },
  "kernelspec": {
   "display_name": "Python [default]",
   "language": "python",
   "name": "python3"
  },
  "language_info": {
   "codemirror_mode": {
    "name": "ipython",
    "version": 3
   },
   "file_extension": ".py",
   "mimetype": "text/x-python",
   "name": "python",
   "nbconvert_exporter": "python",
   "pygments_lexer": "ipython3",
   "version": "3.7.0"
  },
  "nteract": {
   "version": "0.9.1"
  },
  "varInspector": {
   "cols": {
    "lenName": 16,
    "lenType": 16,
    "lenVar": 40
   },
   "kernels_config": {
    "python": {
     "delete_cmd_postfix": "",
     "delete_cmd_prefix": "del ",
     "library": "var_list.py",
     "varRefreshCmd": "print(var_dic_list())"
    },
    "r": {
     "delete_cmd_postfix": ") ",
     "delete_cmd_prefix": "rm(",
     "library": "var_list.r",
     "varRefreshCmd": "cat(var_dic_list()) "
    }
   },
   "types_to_exclude": [
    "module",
    "function",
    "builtin_function_or_method",
    "instance",
    "_Feature"
   ],
   "window_display": false
  }
 },
 "nbformat": 4,
 "nbformat_minor": 2
}
